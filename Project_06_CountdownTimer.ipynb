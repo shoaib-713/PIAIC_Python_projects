{
  "nbformat": 4,
  "nbformat_minor": 0,
  "metadata": {
    "colab": {
      "provenance": [],
      "authorship_tag": "ABX9TyOIR1YjCr0DzKKTuxVJ3kjU",
      "include_colab_link": true
    },
    "kernelspec": {
      "name": "python3",
      "display_name": "Python 3"
    },
    "language_info": {
      "name": "python"
    }
  },
  "cells": [
    {
      "cell_type": "markdown",
      "metadata": {
        "id": "view-in-github",
        "colab_type": "text"
      },
      "source": [
        "<a href=\"https://colab.research.google.com/github/shoaib-713/PIAIC_Python_projects/blob/main/Project_06_CountdownTimer.ipynb\" target=\"_parent\"><img src=\"https://colab.research.google.com/assets/colab-badge.svg\" alt=\"Open In Colab\"/></a>"
      ]
    },
    {
      "cell_type": "code",
      "source": [
        "import time\n",
        "import os\n",
        "\n",
        "def clear_screen():\n",
        "    \"\"\"Clears the console screen for a smooth countdown display.\"\"\"\n",
        "    os.system('cls' if os.name == 'nt' else 'clear')\n",
        "\n",
        "def countdown_timer(seconds):\n",
        "    \"\"\"Runs a countdown timer for the given number of seconds.\"\"\"\n",
        "    for remaining_time in range(seconds, 0, -1):\n",
        "        clear_screen()\n",
        "        hours = remaining_time // 3600\n",
        "        minutes = (remaining_time % 3600) // 60\n",
        "        seconds = remaining_time % 60\n",
        "        print(f\"⏳ Countdown: {hours:02}:{minutes:02}:{seconds:02}\")\n",
        "        time.sleep(1)\n",
        "\n",
        "    clear_screen()\n",
        "    print(\"🎉 Time's up! 🎉\")\n",
        "\n",
        "def main():\n",
        "    \"\"\"Main function to take user input and start the countdown.\"\"\"\n",
        "    try:\n",
        "        user_time = int(input(\"Enter the countdown time in seconds: \"))\n",
        "        countdown_timer(user_time)\n",
        "    except ValueError:\n",
        "        print(\"❌ Invalid input! Please enter a valid number.\")\n",
        "\n",
        "if __name__ == \"__main__\":\n",
        "    main()\n"
      ],
      "metadata": {
        "colab": {
          "base_uri": "https://localhost:8080/"
        },
        "id": "U79Q2HTwNjAv",
        "outputId": "8265c692-965a-4019-8898-6691e9a4b3b0"
      },
      "execution_count": 31,
      "outputs": [
        {
          "output_type": "stream",
          "name": "stdout",
          "text": [
            "Enter the countdown time in seconds: 7\n",
            "⏳ Countdown: 00:00:07\n",
            "⏳ Countdown: 00:00:06\n",
            "⏳ Countdown: 00:00:05\n",
            "⏳ Countdown: 00:00:04\n",
            "⏳ Countdown: 00:00:03\n",
            "⏳ Countdown: 00:00:02\n",
            "⏳ Countdown: 00:00:01\n",
            "🎉 Time's up! 🎉\n"
          ]
        }
      ]
    }
  ]
}