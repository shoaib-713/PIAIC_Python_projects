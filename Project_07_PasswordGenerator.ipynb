{
  "nbformat": 4,
  "nbformat_minor": 0,
  "metadata": {
    "colab": {
      "provenance": [],
      "authorship_tag": "ABX9TyO3hoZjjGSJJmpJvvbYpx3I",
      "include_colab_link": true
    },
    "kernelspec": {
      "name": "python3",
      "display_name": "Python 3"
    },
    "language_info": {
      "name": "python"
    }
  },
  "cells": [
    {
      "cell_type": "markdown",
      "metadata": {
        "id": "view-in-github",
        "colab_type": "text"
      },
      "source": [
        "<a href=\"https://colab.research.google.com/github/shoaib-713/PIAIC_Python_projects/blob/main/Project_07_PasswordGenerator.ipynb\" target=\"_parent\"><img src=\"https://colab.research.google.com/assets/colab-badge.svg\" alt=\"Open In Colab\"/></a>"
      ]
    },
    {
      "cell_type": "code",
      "source": [
        "import random\n",
        "def password_generator():\n",
        "  print(\"Welcome to Your password Generator\")\n",
        "  chars = 'abcdefghijklmnopqrstuvwxyzABCDEFGHIJKLMNOPQRSTUVWXYZ!@$%&*()-_;#~`'\n",
        "\n",
        "  number = input(\"Amount of password to generate: \")\n",
        "  number = int(number)\n",
        "  length = input(\"Input your password length: \")\n",
        "  length = int(length)\n",
        "\n",
        "  print(\"\\nHere are your passwords:\")\n",
        "  for pwd in range(number):\n",
        "    passwords = \"\"\n",
        "    for c in range(length):\n",
        "      passwords += random.choice(chars)\n",
        "    print(passwords)\n",
        "\n",
        "password_generator()\n"
      ],
      "metadata": {
        "id": "9xTvLaeCjDHf",
        "colab": {
          "base_uri": "https://localhost:8080/"
        },
        "outputId": "b1e5ab44-dcec-44fd-8bee-e2f2c3349768"
      },
      "execution_count": 3,
      "outputs": [
        {
          "output_type": "stream",
          "name": "stdout",
          "text": [
            "Welcome to Your password Generator\n",
            "Amount of password to generate: 2\n",
            "Input your password length: 8\n",
            "\n",
            "Here are your passwords:\n",
            "UsVbdvbj\n",
            "rB~lFmfV\n"
          ]
        }
      ]
    }
  ]
}