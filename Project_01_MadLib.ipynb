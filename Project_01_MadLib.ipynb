{
  "nbformat": 4,
  "nbformat_minor": 0,
  "metadata": {
    "colab": {
      "provenance": [],
      "authorship_tag": "ABX9TyOuI8ImCsnUi4aaLePWGtEx",
      "include_colab_link": true
    },
    "kernelspec": {
      "name": "python3",
      "display_name": "Python 3"
    },
    "language_info": {
      "name": "python"
    }
  },
  "cells": [
    {
      "cell_type": "markdown",
      "metadata": {
        "id": "view-in-github",
        "colab_type": "text"
      },
      "source": [
        "<a href=\"https://colab.research.google.com/github/shoaib-713/PIAIC_Python_projects/blob/main/Project_01_MadLib.ipynb\" target=\"_parent\"><img src=\"https://colab.research.google.com/assets/colab-badge.svg\" alt=\"Open In Colab\"/></a>"
      ]
    },
    {
      "cell_type": "markdown",
      "source": [
        "# Mad Lib Python\n",
        "\n",
        "**Requirements**\n",
        "\n",
        "Ask the user for at least  different words (e.g., noun, verb, adjective).\n",
        "\n",
        "Use string formatting or f-strings to insert the words into a story template.\n",
        "\n",
        "Display the completed story to the user.\n",
        "\n",
        "\n"
      ],
      "metadata": {
        "id": "HPfeOx_A3eG5"
      }
    },
    {
      "cell_type": "code",
      "source": [
        "# first we take input different words (noun,verb,adjective)\n",
        "noun1 :str = input(\"Enter a noun1: \")\n",
        "noun2 :str = input(\"Enter a noun2\")\n",
        "verb1 : str = input(\"Enter a verb1: \")\n",
        "verb2 : str = input(\"Enter a verb2: \")\n",
        "adjective :str = input(\"Enter an adjective: \")\n",
        "#The powerful language can simplify code and solve problems.\n",
        "# It helps developers by making tasks easier.\n",
        "# With Python, you can build amazing things.\n",
        "# Learning it feels like unlocking magic!\n",
        "\n",
        "# create a single variable name madlib and store short story in it by using multiline f string\n",
        "madlib = f\"\"\"The powerful {noun1} can simplify code and {verb1} problems.\n",
        "It helps developers by making task {adjective}.\n",
        "With {noun2},you can {verb2} amazing things.\n",
        "Learning it feels like unlocking magic!\"\"\"\n",
        "\n",
        "# and then display story by using print (built_in function)\n",
        "print(madlib)\n"
      ],
      "metadata": {
        "colab": {
          "base_uri": "https://localhost:8080/"
        },
        "id": "VZx00oj34x_F",
        "outputId": "634c089f-5bbc-4aca-e594-1982fd9c92fe"
      },
      "execution_count": null,
      "outputs": [
        {
          "output_type": "stream",
          "name": "stdout",
          "text": [
            "Enter a noun1: language\n",
            "Enter a noun2python\n",
            "Enter a verb1: create\n",
            "Enter a verb2: solve\n",
            "Enter a verb3: buld\n",
            "Enter an adjective: easier\n",
            "The powerful language can simplify code and create problems.\n",
            "It helps developers by making task easier.\n",
            "With python,you can solve amazing things.\n",
            "Learning it feels like buld magic!\n"
          ]
        }
      ]
    }
  ]
}