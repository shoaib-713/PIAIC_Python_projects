{
  "nbformat": 4,
  "nbformat_minor": 0,
  "metadata": {
    "colab": {
      "provenance": [],
      "authorship_tag": "ABX9TyM3W3DKkL85ZRcQZwF9yA19",
      "include_colab_link": true
    },
    "kernelspec": {
      "name": "python3",
      "display_name": "Python 3"
    },
    "language_info": {
      "name": "python"
    }
  },
  "cells": [
    {
      "cell_type": "markdown",
      "metadata": {
        "id": "view-in-github",
        "colab_type": "text"
      },
      "source": [
        "<a href=\"https://colab.research.google.com/github/shoaib-713/PIAIC_Python_projects/blob/main/Project_05_Hangman.ipynb\" target=\"_parent\"><img src=\"https://colab.research.google.com/assets/colab-badge.svg\" alt=\"Open In Colab\"/></a>"
      ]
    },
    {
      "cell_type": "code",
      "source": [
        "import random\n",
        "\n",
        "def play_hangman():\n",
        "    words = [\"python\", \"vscode\", \"colab\", \"happy\", \"game\"]\n",
        "\n",
        "    word = random.choice(words)\n",
        "    guessed_letters = []\n",
        "    attempts = 8\n",
        "\n",
        "    print(\"\\nWelcome to Hangman Game!\")\n",
        "    print(\"_\" * len(word))\n",
        "\n",
        "    while attempts > 0:\n",
        "        guess = input(\"\\nGuess a letter: \").lower()\n",
        "\n",
        "        if len(guess) != 1 or not guess.isalpha():\n",
        "            print(\"Please enter a single alphabet letter only!\")\n",
        "            continue\n",
        "\n",
        "        if guess in guessed_letters:\n",
        "            print(\"You've already guessed this letter. Try another one!\")\n",
        "            continue\n",
        "\n",
        "        guessed_letters.append(guess)\n",
        "\n",
        "        if guess in word:\n",
        "            print(\"Correct guess!\")\n",
        "        else:\n",
        "            attempts -= 1\n",
        "            print(f\"Wrong guess! {attempts} attempts left.\")\n",
        "\n",
        "        displayed_word = \" \".join([letter if letter in guessed_letters else \"_\" for letter in word])\n",
        "        print(displayed_word)\n",
        "\n",
        "        if \"_\" not in displayed_word:\n",
        "            print(f\"Congratulations! You guessed the word: {word}\")\n",
        "            break\n",
        "    else:\n",
        "        print(f\"Game over! The correct word was: {word}\")\n",
        "\n",
        "# Ask user if they want to play again\n",
        "while True:\n",
        "    play_hangman()\n",
        "    play_again = input(\"\\nDo you want to play again? (yes/no): \").lower()\n",
        "    if play_again != \"yes\":\n",
        "        print(\"Thanks for playing! Goodbye.\")\n",
        "        break\n"
      ],
      "metadata": {
        "colab": {
          "base_uri": "https://localhost:8080/"
        },
        "id": "tNYNkSUJsMV6",
        "outputId": "7d533482-0c67-48a8-df90-17c2ed473c44"
      },
      "execution_count": 19,
      "outputs": [
        {
          "output_type": "stream",
          "name": "stdout",
          "text": [
            "\n",
            "Welcome to Hangman Game!\n",
            "_____\n",
            "\n",
            "Guess a letter: p\n",
            "Correct guess!\n",
            "_ _ p p _\n",
            "\n",
            "Guess a letter: h\n",
            "Correct guess!\n",
            "h _ p p _\n",
            "\n",
            "Guess a letter: a\n",
            "Correct guess!\n",
            "h a p p _\n",
            "\n",
            "Guess a letter: y\n",
            "Correct guess!\n",
            "h a p p y\n",
            "Congratulations! You guessed the word: happy\n",
            "\n",
            "Do you want to play again? (yes/no): yes\n",
            "\n",
            "Welcome to Hangman Game!\n",
            "______\n",
            "\n",
            "Guess a letter: v\n",
            "Correct guess!\n",
            "v _ _ _ _ _\n",
            "\n",
            "Guess a letter: s\n",
            "Correct guess!\n",
            "v s _ _ _ _\n",
            "\n",
            "Guess a letter: c\n",
            "Correct guess!\n",
            "v s c _ _ _\n",
            "\n",
            "Guess a letter: o\n",
            "Correct guess!\n",
            "v s c o _ _\n",
            "\n",
            "Guess a letter: d\n",
            "Correct guess!\n",
            "v s c o d _\n",
            "\n",
            "Guess a letter: e\n",
            "Correct guess!\n",
            "v s c o d e\n",
            "Congratulations! You guessed the word: vscode\n",
            "\n",
            "Do you want to play again? (yes/no): no\n",
            "Thanks for playing! Goodbye.\n"
          ]
        }
      ]
    }
  ]
}