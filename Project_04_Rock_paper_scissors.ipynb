{
  "nbformat": 4,
  "nbformat_minor": 0,
  "metadata": {
    "colab": {
      "provenance": [],
      "authorship_tag": "ABX9TyNYX8ckW8qnXxEYfgwmwm3D",
      "include_colab_link": true
    },
    "kernelspec": {
      "name": "python3",
      "display_name": "Python 3"
    },
    "language_info": {
      "name": "python"
    }
  },
  "cells": [
    {
      "cell_type": "markdown",
      "metadata": {
        "id": "view-in-github",
        "colab_type": "text"
      },
      "source": [
        "<a href=\"https://colab.research.google.com/github/shoaib-713/PIAIC_Python_projects/blob/main/Project_04_Rock_paper_scissors.ipynb\" target=\"_parent\"><img src=\"https://colab.research.google.com/assets/colab-badge.svg\" alt=\"Open In Colab\"/></a>"
      ]
    },
    {
      "cell_type": "code",
      "execution_count": 3,
      "metadata": {
        "colab": {
          "base_uri": "https://localhost:8080/"
        },
        "id": "fH7fTYQfcd5l",
        "outputId": "423c7eca-86b3-4450-f0ed-877b8240b1c8"
      },
      "outputs": [
        {
          "output_type": "stream",
          "name": "stdout",
          "text": [
            "Enter your move = (Rock, Paper, Scissor): Scissor\n",
            "User choice = Scissor, \n",
            "Computer choice = Paper\n",
            "Scissor cuts paper, You win\n"
          ]
        }
      ],
      "source": [
        "\"\"\"\n",
        "WORKFLOW OF PROJECT:\n",
        "1- Input from user(Rock, paper, scissor)\n",
        "2- Computer choice (Computer will choose randomly not conditionally)\n",
        "3- Result print\n",
        "\n",
        "Cases:\n",
        "A- Rock\n",
        "Rock - Rock = tie\n",
        "Rock - Paper = Paper win\n",
        "Rock - scissor = Rock win\n",
        "\n",
        "B- Paper\n",
        "Paper - Paper = tie\n",
        "Paper - Rock = Paper win\n",
        "Paper - Scissor = Scissor win\n",
        "\n",
        "C- Scissor\n",
        "Scissor - Scissor = tie\n",
        "Scissor - Rock = Rock win\n",
        "Scissor - Paper = Scissor win\n",
        "\n",
        "\"\"\"\n",
        "\n",
        "import random\n",
        "item_list = [\"Rock\", \"Paper\", \"Scissor\"]\n",
        "\n",
        "user_choice = input(\"Enter your move = (Rock, Paper, Scissor): \")\n",
        "comp_choice = random.choice(item_list)\n",
        "\n",
        "print(f\"User choice = {user_choice}, \\nComputer choice = {comp_choice}\")\n",
        "\n",
        "if user_choice == comp_choice:\n",
        "    print(\"Both chooses same: = Match Tie\")\n",
        "\n",
        "elif user_choice == \"Rock\":\n",
        "    if comp_choice == \"Paper\":\n",
        "        print(\"Paper covers Rock = Computer Win\")\n",
        "    else:\n",
        "        print(\"Rock smashes Scissor = You win\")\n",
        "\n",
        "elif user_choice == \"Paper\":\n",
        "    if comp_choice == \"Scissor\":\n",
        "        print(\"Scissor cuts paper, Computer Win\")\n",
        "    else:\n",
        "        print(\"Paper covers rock, You win\")\n",
        "\n",
        "elif user_choice == \"Scissor\":\n",
        "    if comp_choice == \"Paper\":\n",
        "        print(\"Scissor cuts paper, You win\")\n",
        "    else:\n",
        "        print(\"Rock smashes scissor, Computer win\")\n"
      ]
    }
  ]
}