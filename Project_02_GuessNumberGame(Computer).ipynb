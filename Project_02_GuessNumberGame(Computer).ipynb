{
  "nbformat": 4,
  "nbformat_minor": 0,
  "metadata": {
    "colab": {
      "provenance": [],
      "authorship_tag": "ABX9TyPgS0xlryx03xtCLqbUgo6U",
      "include_colab_link": true
    },
    "kernelspec": {
      "name": "python3",
      "display_name": "Python 3"
    },
    "language_info": {
      "name": "python"
    }
  },
  "cells": [
    {
      "cell_type": "markdown",
      "metadata": {
        "id": "view-in-github",
        "colab_type": "text"
      },
      "source": [
        "<a href=\"https://colab.research.google.com/github/shoaib-713/PIAIC_Python_projects/blob/main/Project_02_GuessNumberGame(Computer).ipynb\" target=\"_parent\"><img src=\"https://colab.research.google.com/assets/colab-badge.svg\" alt=\"Open In Colab\"/></a>"
      ]
    },
    {
      "cell_type": "code",
      "source": [
        "#Use the random module to generate a random number\n",
        "import random\n",
        "\n",
        "def guessNumber(x):\n",
        "\n",
        "    \"\"\"\n",
        "    This function generates a random number between 1 and x and asks the user to guess it.\n",
        "    It provides feedback on whether the guess is too high or too low and counts the number of attempts.\n",
        "    \"\"\"\n",
        "  random_number = random.randint(1,x)\n",
        "  guess_number = 0\n",
        "  attempts = 0 # counter for number of attempts\n",
        "\n",
        "  # Loop until the user guesses the correct number\n",
        "  while guess_number != random_number:\n",
        "    guess_number = int(input(f\"Enter guess_number 1 to {x}: \"))\n",
        "    attempts +=1  # increment in attempts count\n",
        "    # provide hints if the guessed is incorrect!\n",
        "    if guess_number < random_number:\n",
        "      print(\"Your guess number is too low\")\n",
        "    elif guess_number > random_number:\n",
        "      print(\"Your guess number is too high\")\n",
        "  else:\n",
        "    print(f\"Congrats,You have guessed {random_number} correctly in {attempts} tries.\")\n",
        "# call the function by it's name\n",
        "guessNumber(100)"
      ],
      "metadata": {
        "colab": {
          "base_uri": "https://localhost:8080/"
        },
        "id": "JaD6XX9H0AeI",
        "outputId": "4d08efe0-bbcd-44b3-8542-019f78c07c6c"
      },
      "execution_count": null,
      "outputs": [
        {
          "output_type": "stream",
          "name": "stdout",
          "text": [
            "Enter guess_number 1 to 100: 50\n",
            "Your guess number is too high\n",
            "Enter guess_number 1 to 100: 30\n",
            "Your guess number is too high\n",
            "Enter guess_number 1 to 100: 25\n",
            "Your guess number is too low\n",
            "Enter guess_number 1 to 100: 28\n",
            "Your guess number is too high\n",
            "Enter guess_number 1 to 100: 29\n",
            "Your guess number is too high\n",
            "Enter guess_number 1 to 100: 27\n",
            "Your guess number is too high\n",
            "Enter guess_number 1 to 100: 26\n",
            "Congrats,You have guessed 26 correctly in 7 tries.\n"
          ]
        }
      ]
    }
  ]
}