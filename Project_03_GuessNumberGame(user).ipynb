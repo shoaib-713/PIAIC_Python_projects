{
  "nbformat": 4,
  "nbformat_minor": 0,
  "metadata": {
    "colab": {
      "provenance": [],
      "authorship_tag": "ABX9TyM7Lbn+oLAj5UuRL/mdvICy",
      "include_colab_link": true
    },
    "kernelspec": {
      "name": "python3",
      "display_name": "Python 3"
    },
    "language_info": {
      "name": "python"
    }
  },
  "cells": [
    {
      "cell_type": "markdown",
      "metadata": {
        "id": "view-in-github",
        "colab_type": "text"
      },
      "source": [
        "<a href=\"https://colab.research.google.com/github/shoaib-713/PIAIC_Python_projects/blob/main/Project_03_GuessNumberGame(user).ipynb\" target=\"_parent\"><img src=\"https://colab.research.google.com/assets/colab-badge.svg\" alt=\"Open In Colab\"/></a>"
      ]
    },
    {
      "cell_type": "code",
      "source": [
        "import random\n",
        "\n",
        "print(\"Guess the number between 1 and 100.\")\n",
        "\n",
        "# Generate random number\n",
        "number = random.randint(1, 100)\n",
        "attempts = 0  # Counter for tries\n",
        "\n",
        "while True:\n",
        "    try:\n",
        "        guess = int(input(\"Enter your guess: \"))\n",
        "        attempts += 1  # Increment attempt counter\n",
        "\n",
        "        if guess < number:\n",
        "            print(\"Too low!\")\n",
        "        elif guess > number:\n",
        "            print(\"Too high!\")\n",
        "        else:\n",
        "            print(f\"Congratulations! You got it right in {attempts} tries!\")\n",
        "            print(f\"The random number was: {number}\")\n",
        "            break\n",
        "    except ValueError:\n",
        "        print(\"Invalid input! Please enter a number.\")\n"
      ],
      "metadata": {
        "colab": {
          "base_uri": "https://localhost:8080/"
        },
        "id": "mOu1zjCXKhfi",
        "outputId": "0a327ebc-73cf-402d-b6ff-ad759457216a"
      },
      "execution_count": null,
      "outputs": [
        {
          "output_type": "stream",
          "name": "stdout",
          "text": [
            "Guess the number between 1 and 100.\n",
            "Enter your guess: 50\n",
            "Too high!\n",
            "Enter your guess: 25\n",
            "Too low!\n",
            "Enter your guess: 45\n",
            "Too high!\n",
            "Enter your guess: 35\n",
            "Too high!\n",
            "Enter your guess: 30\n",
            "Too high!\n",
            "Enter your guess: 28\n",
            "Too low!\n",
            "Enter your guess: 29\n",
            "Congratulations! You got it right in 7 tries!\n",
            "The random number was: 29\n"
          ]
        }
      ]
    }
  ]
}